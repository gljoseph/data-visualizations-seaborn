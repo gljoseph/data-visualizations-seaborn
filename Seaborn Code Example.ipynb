{
 "cells": [
  {
   "cell_type": "code",
   "execution_count": null,
   "metadata": {},
   "outputs": [],
   "source": [
    "# Seaborn in python coding examples\n",
    "import numpy as np\n",
    "import pandas as pd\n",
    "import seaborn as sns\n",
    "import matplotlib.pyplot as plt"
   ]
  },
  {
   "cell_type": "code",
   "execution_count": null,
   "metadata": {},
   "outputs": [],
   "source": [
    "#DATA SOURCE: https://www.kaggle.com/rikdifos/credit-card-approval-prediction\n",
    "Data Information:\n",
    "Credit score cards are a common risk control method in the financial industry. It uses personal information and data submitted by credit card applicants to predict the probability of future defaults and credit card borrowings. The bank is able to decide whether to issue a credit card to the applicant. Credit scores can objectively quantify the magnitude of risk."
   ]
  },
  {
   "cell_type": "code",
   "execution_count": null,
   "metadata": {},
   "outputs": [],
   "source": [
    "df = pd.read_csv('application_record.csv')\n",
    "df.head()"
   ]
  },
  {
   "cell_type": "code",
   "execution_count": null,
   "metadata": {},
   "outputs": [],
   "source": [
    "df.info()"
   ]
  },
  {
   "cell_type": "code",
   "execution_count": null,
   "metadata": {},
   "outputs": [],
   "source": [
    "#remove unemployed \n",
    "g = np.abs(df[['DAYS_EMPLOYED','DAYS_BIRTH']])\n",
    "g = g[(g['DAYS_EMPLOYED'] > 0) & (df['DAYS_EMPLOYED']<50000)]\n",
    "plt.figure(figsize=(12,8))\n",
    "sns.scatterplot(x='DAYS_BIRTH',y='DAYS_EMPLOYED',data=g,linewidth=0,alpha=0.01)"
   ]
  },
  {
   "cell_type": "code",
   "execution_count": null,
   "metadata": {},
   "outputs": [],
   "source": [
    "plt.figure(figsize=(8,4))\n",
    "df['Age in Years'] = np.round(np.abs(df['DAYS_BIRTH']/365),decimals=0)\n",
    "sns.displot(data=df,x='Age in Years', edgecolor='black', bins=50, color='red', linewidth=2)"
   ]
  },
  {
   "cell_type": "code",
   "execution_count": null,
   "metadata": {},
   "outputs": [],
   "source": [
    "#This plot shows information only for the bottom half of income earners in the data set. It shows the boxplots for each category of NAME_FAMILY_STATUS column for displaying their distribution of their total income.\n",
    "b = df.sort_index(level='AMT_INCOME_TOTAL',ascending=False)\n",
    "b = b[(b['AMT_INCOME_TOTAL'] < 160000)]\n",
    "b\n",
    "plt.figure(figsize=(12,6))\n",
    "plt.title('Income Totals per Family Status for Bottom Half of Earners')\n",
    "h=sns.boxplot(x='NAME_FAMILY_STATUS',y='AMT_INCOME_TOTAL',data=b,order=[\"Married\", \"Civil marriage\", \"Widow\", \"Single / not married\", \"Separated\"], hue='FLAG_OWN_REALTY', hue_order = [\"N\", \"Y\"])\n",
    "plt.legend(loc=(1.1,0.5),title='FLAG_OWN_REALTY')"
   ]
  },
  {
   "cell_type": "code",
   "execution_count": null,
   "metadata": {},
   "outputs": [],
   "source": [
    "#This heatmap shows the correlation between the columns in the dataframe. \n",
    "plt.figure(figsize=(8,10))\n",
    "z = df.drop('Age in Years',axis=1)\n",
    "z = z.drop('FLAG_MOBIL',axis=1)\n",
    "z = z.corr()\n",
    "sns.heatmap(z,cmap='viridis')"
   ]
  },
  {
   "cell_type": "code",
   "execution_count": null,
   "metadata": {},
   "outputs": [],
   "source": []
  }
 ],
 "metadata": {
  "kernelspec": {
   "display_name": "Python 3",
   "language": "python",
   "name": "python3"
  },
  "language_info": {
   "codemirror_mode": {
    "name": "ipython",
    "version": 3
   },
   "file_extension": ".py",
   "mimetype": "text/x-python",
   "name": "python",
   "nbconvert_exporter": "python",
   "pygments_lexer": "ipython3",
   "version": "3.8.5"
  }
 },
 "nbformat": 4,
 "nbformat_minor": 4
}
